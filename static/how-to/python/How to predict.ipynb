{
 "cells": [
  {
   "cell_type": "markdown",
   "metadata": {},
   "source": [
    "# How to predict with missing values ?"
   ]
  },
  {
   "cell_type": "markdown",
   "metadata": {},
   "source": [
    "In this tutorial, we will cover how to accuratly predict the response `y` given `X` when `X` contains missing values."
   ]
  },
  {
   "cell_type": "code",
   "execution_count": 1,
   "metadata": {},
   "outputs": [],
   "source": [
    "import numpy as np\n",
    "\n",
    "import matplotlib.pyplot as plt\n",
    "%matplotlib inline"
   ]
  },
  {
   "cell_type": "markdown",
   "metadata": {},
   "source": [
    "# 1 Get your data (with missing values)"
   ]
  },
  {
   "cell_type": "code",
   "execution_count": 2,
   "metadata": {},
   "outputs": [],
   "source": [
    "# Load you data here\n",
    "\n",
    "from sklearn.datasets import fetch_california_housing\n",
    "X_complete, y = fetch_california_housing(return_X_y = True)\n",
    "\n",
    "# Artificially add some np.nan\n",
    "np.random.seed(1)  # fix the seed\n",
    "\n",
    "## Add completly at random missing values\n",
    "X = X_complete.copy()\n",
    "missing_mask = np.random.binomial(1, .1, X.shape)\n",
    "np.putmask(X, missing_mask, np.nan)\n",
    "\n",
    "## Add censored missing values\n",
    "missing_mask = (np.random.normal(X_complete) > X_complete + 1)\n",
    "np.putmask(X, missing_mask, np.nan)\n",
    "\n",
    "## Add missing values correlated to y\n",
    "y_max = np.percentile(y, 90)\n",
    "y_max_mask = y >= y_max\n",
    "np.putmask(X[:,2], y_max_mask, np.nan)"
   ]
  },
  {
   "cell_type": "markdown",
   "metadata": {},
   "source": [
    "### Quick Exploratory Data Analysis\n",
    "\n",
    "Few lines of code to appreciate the missingness in our data"
   ]
  },
  {
   "cell_type": "code",
   "execution_count": 3,
   "metadata": {},
   "outputs": [
    {
     "name": "stdout",
     "output_type": "stream",
     "text": [
      "Shape of X: (20640, 8)\n"
     ]
    }
   ],
   "source": [
    "print('Shape of X:', X.shape)"
   ]
  },
  {
   "cell_type": "code",
   "execution_count": 4,
   "metadata": {},
   "outputs": [
    {
     "data": {
      "text/plain": [
       "array([[   8.3252,   41.    ,       nan,    1.0238,  322.    ,    2.5556,\n",
       "          37.88  , -122.23  ],\n",
       "       [   8.3014,   21.    ,    6.2381,    0.9719, 2401.    ,       nan,\n",
       "              nan, -122.22  ],\n",
       "       [   7.2574,   52.    ,    8.2881,    1.0734,  496.    ,       nan,\n",
       "          37.85  , -122.24  ],\n",
       "       [   5.6431,   52.    ,    5.8174,    1.0731,  558.    ,    2.5479,\n",
       "          37.85  , -122.25  ],\n",
       "       [      nan,   52.    ,    6.2819,    1.0811,  565.    ,    2.1815,\n",
       "          37.85  , -122.25  ]])"
      ]
     },
     "execution_count": 4,
     "metadata": {},
     "output_type": "execute_result"
    }
   ],
   "source": [
    "np.set_printoptions(precision=4, suppress=True) #  supress scientific notation \n",
    "(X[:5])"
   ]
  },
  {
   "cell_type": "code",
   "execution_count": 5,
   "metadata": {},
   "outputs": [
    {
     "name": "stdout",
     "output_type": "stream",
     "text": [
      "Ratio nan in X: 25.4 %\n",
      "Ratio nan in y: 0.0 %\n"
     ]
    }
   ],
   "source": [
    "print('Ratio nan in X:', np.round(100 * np.sum(np.isnan(X)) / X.size,1), '%')\n",
    "print('Ratio nan in y:', np.round(100 * np.sum(np.isnan(y)) / y.size,1), '%')"
   ]
  },
  {
   "cell_type": "code",
   "execution_count": 6,
   "metadata": {},
   "outputs": [
    {
     "data": {
      "image/png": "[encoded data removed]",
      "text/plain": [
       "<Figure size 432x288 with 1 Axes>"
      ]
     },
     "metadata": {
      "needs_background": "light"
     },
     "output_type": "display_data"
    }
   ],
   "source": [
    "plt.scatter(X[:400,0], X[:400,1]);  #  data with missing coordinate are not plotted"
   ]
  },
  {
   "cell_type": "markdown",
   "metadata": {},
   "source": [
    "# 2 Imputation Model"
   ]
  },
  {
   "cell_type": "markdown",
   "metadata": {},
   "source": [
    "Our goal is to predict `y` as accuratly as possible. \n",
    "There exists mainly two options to deals with missing values:\n",
    "1. Either we get ride of all missing values (ease of use at the price of loosing information);\n",
    "2. Or we impute the missing values.  \n",
    "\n",
    "We will describe the second option in details."
   ]
  },
  {
   "cell_type": "markdown",
   "metadata": {},
   "source": [
    "## Imputation strategies\n",
    "\n",
    "Since there is no prefer way to deals with missing values, we will consider three imputation strategies:\n",
    "1. Mean imputation: replace `nan` by the mean [or the median] of the feature (the column);\n",
    "2. Iterative imputation: each feature is regressed/estimated from the others;\n",
    "3. MinMax Imputation (also refer as Missing In Attribute, by [Twala et al.](https://www.sciencedirect.com/science/article/pii/S0167865508000305)): duplicating features twice and remplace its missing values once by $\\infty$ and once by $- \\infty$. \n",
    "\n",
    "In the case of Mean or Iterative imputation, it might by fruitsfull to add the missing values indicator (by concatenating the missing indicator to $X$)"
   ]
  },
  {
   "cell_type": "markdown",
   "metadata": {},
   "source": [
    "__Rule of thumb__: If we possess a good learner algorithm and enough samples in our dataset (e.g. more than $10^5$), the mean imputation is a good default choice (since it is consistent)."
   ]
  },
  {
   "cell_type": "code",
   "execution_count": 7,
   "metadata": {},
   "outputs": [
    {
     "name": "stdout",
     "output_type": "stream",
     "text": [
      "[[   8.3252   41.        5.3034    1.0238  322.        2.5556   37.88\n",
      "  -122.23  ]\n",
      " [   8.3014   21.        6.2381    0.9719 2401.        3.0741   35.6295\n",
      "  -122.22  ]\n",
      " [   7.2574   52.        8.2881    1.0734  496.        3.0741   37.85\n",
      "  -122.24  ]\n",
      " [   5.6431   52.        5.8174    1.0731  558.        2.5479   37.85\n",
      "  -122.25  ]\n",
      " [   3.8735   52.        6.2819    1.0811  565.        2.1815   37.85\n",
      "  -122.25  ]]\n"
     ]
    }
   ],
   "source": [
    "from sklearn.impute import SimpleImputer\n",
    "\n",
    "imputer = SimpleImputer(strategy='mean')\n",
    "X_impute = imputer.fit_transform(X)\n",
    "print(X_impute[:5])"
   ]
  },
  {
   "cell_type": "code",
   "execution_count": 8,
   "metadata": {},
   "outputs": [
    {
     "name": "stdout",
     "output_type": "stream",
     "text": [
      "Ratio nan = 0.0 %\n"
     ]
    }
   ],
   "source": [
    "print('Ratio nan =', np.round(100 * np.sum(np.isnan(X_impute)) / X.size,1), '%')"
   ]
  },
  {
   "cell_type": "code",
   "execution_count": 9,
   "metadata": {},
   "outputs": [
    {
     "data": {
      "text/plain": [
       "<matplotlib.collections.PathCollection at 0x7f73195ee390>"
      ]
     },
     "execution_count": 9,
     "metadata": {},
     "output_type": "execute_result"
    },
    {
     "data": {
      "image/png": "[encoded data removed]",
      "text/plain": [
       "<Figure size 432x288 with 1 Axes>"
      ]
     },
     "metadata": {
      "needs_background": "light"
     },
     "output_type": "display_data"
    }
   ],
   "source": [
    "plt.scatter(X_impute[:400,0], X_impute[:400,1])\n",
    "\n",
    "missing_mask = np.where([any(x) for x in np.isnan(X[:400][:,[0,1]])])\n",
    "plt.scatter(X_impute[missing_mask,0], X_impute[missing_mask,1])"
   ]
  },
  {
   "cell_type": "code",
   "execution_count": 10,
   "metadata": {},
   "outputs": [
    {
     "name": "stdout",
     "output_type": "stream",
     "text": [
      "[[   8.3252   41.        8.4915    1.0238  322.        2.5556   37.88\n",
      "  -122.23  ]\n",
      " [   8.3014   21.        6.2381    0.9719 2401.        2.208    36.4426\n",
      "  -122.22  ]\n",
      " [   7.2574   52.        8.2881    1.0734  496.        3.836    37.85\n",
      "  -122.24  ]\n",
      " [   5.6431   52.        5.8174    1.0731  558.        2.5479   37.85\n",
      "  -122.25  ]\n",
      " [   4.5915   52.        6.2819    1.0811  565.        2.1815   37.85\n",
      "  -122.25  ]]\n"
     ]
    },
    {
     "name": "stderr",
     "output_type": "stream",
     "text": [
      "/home/thomas/anaconda3/envs/stable/lib/python3.7/site-packages/sklearn/impute/_iterative.py:599: ConvergenceWarning: [IterativeImputer] Early stopping criterion not reached.\n",
      "  \" reached.\", ConvergenceWarning)\n"
     ]
    }
   ],
   "source": [
    "# explicitly require because IterativeImputer is still experimental in sklearn\n",
    "from sklearn.experimental import enable_iterative_imputer\n",
    "from sklearn.impute import IterativeImputer\n",
    "\n",
    "imputer = IterativeImputer()\n",
    "X_impute = imputer.fit_transform(X)\n",
    "print(X_impute[:5])"
   ]
  },
  {
   "cell_type": "code",
   "execution_count": 11,
   "metadata": {},
   "outputs": [
    {
     "data": {
      "image/png": "[encoded data removed]",
      "text/plain": [
       "<Figure size 432x288 with 1 Axes>"
      ]
     },
     "metadata": {
      "needs_background": "light"
     },
     "output_type": "display_data"
    }
   ],
   "source": [
    "plt.scatter(X_impute[:400,0], X_impute[:400,1])\n",
    "\n",
    "missing_mask = np.where([any(x) for x in np.isnan(X[:400][:,[0,1]])])\n",
    "plt.scatter(X_impute[missing_mask,0], X_impute[missing_mask,1]);"
   ]
  },
  {
   "cell_type": "markdown",
   "metadata": {},
   "source": [
    "Imputation here takes advantage of others features."
   ]
  },
  {
   "cell_type": "markdown",
   "metadata": {},
   "source": [
    "# 3. Simulations/Experiments"
   ]
  },
  {
   "cell_type": "markdown",
   "metadata": {},
   "source": [
    "Let's evaluate the differents imputation strategies.\n",
    "Let's consider our differents imputers w.r.t. differents machine learning algorithms. The piepline will be \n",
    "- 1. Imputation\n",
    "- 2. Regression on the imputed dataset  "
   ]
  },
  {
   "cell_type": "markdown",
   "metadata": {},
   "source": [
    "### 3.1 Step by step pipeline with LinearRegression()\n",
    "Here we decompose each step of the pipepline for clarity."
   ]
  },
  {
   "cell_type": "code",
   "execution_count": 12,
   "metadata": {},
   "outputs": [
    {
     "name": "stdout",
     "output_type": "stream",
     "text": [
      "train shape: X.shape=(15480, 8), y.shape=(15480,)\n",
      "test shape: X.shape=(5160, 8), y.shape=(5160,)\n"
     ]
    }
   ],
   "source": [
    "# First split the data into train set and test set\n",
    "from sklearn.model_selection import train_test_split\n",
    "X_train, X_test, y_train, y_test = train_test_split(X, y)\n",
    "print('train shape: X.shape={}, y.shape={}'.format(X_train.shape, y_train.shape))\n",
    "print('test shape: X.shape={}, y.shape={}'.format(X_test.shape, y_test.shape))"
   ]
  },
  {
   "cell_type": "code",
   "execution_count": 13,
   "metadata": {},
   "outputs": [],
   "source": [
    "from sklearn.linear_model import LinearRegression\n",
    "regressor = LinearRegression()"
   ]
  },
  {
   "cell_type": "code",
   "execution_count": 14,
   "metadata": {},
   "outputs": [],
   "source": [
    "\"\"\" Line below would raise an ValueError: \n",
    "'Input contains NaN, infinity or a value too large for dtype('float64').'\n",
    "\n",
    "Because LinearRegressor couldn't deals with NaN values.\"\"\";\n",
    "\n",
    "# regressor.fit(X_train, y_train) "
   ]
  },
  {
   "cell_type": "code",
   "execution_count": 15,
   "metadata": {},
   "outputs": [],
   "source": [
    "# Good pratcice are: fitting on the train, then transform both train and test with the *same* imputer\n",
    "\n",
    "imputer = SimpleImputer(strategy='mean')\n",
    "imputer.fit(X_train)\n",
    "\n",
    "X_train_imp = imputer.transform(X_train)\n",
    "X_test_imp = imputer.transform(X_test)"
   ]
  },
  {
   "cell_type": "code",
   "execution_count": 16,
   "metadata": {},
   "outputs": [
    {
     "name": "stdout",
     "output_type": "stream",
     "text": [
      "Score on train: 0.4122652287216697\n",
      "Score on test: 0.38863230503580404\n"
     ]
    }
   ],
   "source": [
    "regressor.fit(X_train_imp, y_train)\n",
    "print('Score on train:', regressor.score(X_train_imp, y_train))\n",
    "print('Score on test:', regressor.score(X_test_imp, y_test))"
   ]
  },
  {
   "cell_type": "code",
   "execution_count": 17,
   "metadata": {},
   "outputs": [
    {
     "name": "stdout",
     "output_type": "stream",
     "text": [
      "Score on train: 0.45217680786980824\n",
      "Score on test: 0.44012426540482763\n"
     ]
    },
    {
     "name": "stderr",
     "output_type": "stream",
     "text": [
      "/home/thomas/anaconda3/envs/stable/lib/python3.7/site-packages/sklearn/impute/_iterative.py:599: ConvergenceWarning: [IterativeImputer] Early stopping criterion not reached.\n",
      "  \" reached.\", ConvergenceWarning)\n"
     ]
    }
   ],
   "source": [
    "# Try with the IterativeImputer now\n",
    "imputer_it = IterativeImputer()\n",
    "imputer_it.fit(X_train)\n",
    "\n",
    "X_train_imp_it = imputer_it.transform(X_train)\n",
    "X_test_imp_it = imputer_it.transform(X_test)\n",
    "\n",
    "regressor.fit(X_train_imp_it, y_train)\n",
    "print('Score on train:', regressor.score(X_train_imp_it, y_train))\n",
    "print('Score on test:', regressor.score(X_test_imp_it, y_test))"
   ]
  },
  {
   "cell_type": "markdown",
   "metadata": {},
   "source": [
    "Here we see that the Iterative imputation method can add information for Linear Regression method.  "
   ]
  },
  {
   "cell_type": "markdown",
   "metadata": {},
   "source": [
    "### 3.2 Model selection\n",
    "\n",
    "Now we run our piepline on severals imputers and regressors.  \n",
    "We will use `Piepline` from sklearn to sequentially apply imputation and regression.  \n",
    "We finally use sklearn cross_val_score to evaluate our models."
   ]
  },
  {
   "cell_type": "code",
   "execution_count": 18,
   "metadata": {},
   "outputs": [],
   "source": [
    "# Imputer model:\n",
    "\n",
    "from sklearn.preprocessing import MinMaxScaler\n",
    "from sklearn.base import BaseEstimator, TransformerMixin\n",
    "\n",
    "class MinMaxImputer(BaseEstimator, TransformerMixin):\n",
    "    # replacing the `nan` by two extremes values (by duplicating each column)\n",
    "    \n",
    "    def fit(self, X, y=None):\n",
    "        mm = MinMaxScaler().fit(X)\n",
    "        self.data_min_ = mm.data_min_\n",
    "        self.data_max_ = mm.data_max_\n",
    "        return self\n",
    "\n",
    "    def transform(self, X):\n",
    "        X_min, X_max = X.copy(), X.copy()\n",
    "\n",
    "        for feature_idx in range(X.shape[1]):\n",
    "            nan_mask = np.isnan(X[:, feature_idx])\n",
    "            X_min[nan_mask, feature_idx] = self.data_min_[feature_idx] - 1\n",
    "            X_max[nan_mask, feature_idx] = self.data_max_[feature_idx] + 1\n",
    "\n",
    "        return np.concatenate([X_min, X_max], axis=1)\n",
    "    \n",
    "imputers_wo_indicator = {'Simple': SimpleImputer(add_indicator=False),\n",
    "                         'Iterative': IterativeImputer(add_indicator=False)}\n",
    "imputers_with_indicator = {'Simple': SimpleImputer(add_indicator=True),\n",
    "                           'Iterative': IterativeImputer(add_indicator=True),\n",
    "                           'MinMax': MinMaxImputer()}"
   ]
  },
  {
   "cell_type": "code",
   "execution_count": 19,
   "metadata": {},
   "outputs": [],
   "source": [
    "# Regressor model:\n",
    "\n",
    "from sklearn.linear_model import LinearRegression\n",
    "from sklearn.svm import SVR\n",
    "from sklearn.ensemble import RandomForestRegressor\n",
    "from sklearn.experimental import enable_hist_gradient_boosting\n",
    "from sklearn.ensemble import HistGradientBoostingRegressor  # similar to XGBoost/lightGBM\n",
    "\n",
    "regressors = {'LinReg': LinearRegression(),\n",
    "              'SVM': SVR(C=100),\n",
    "              'RandomForest': RandomForestRegressor(),\n",
    "              \"HGBoost\": HistGradientBoostingRegressor()}"
   ]
  },
  {
   "cell_type": "code",
   "execution_count": 22,
   "metadata": {},
   "outputs": [
    {
     "name": "stdout",
     "output_type": "stream",
     "text": [
      "Score on 5-fold : [0.3226 0.5901 0.5953 0.447  0.4779]\n"
     ]
    }
   ],
   "source": [
    "# from sklearn.pipeline import Pipeline\n",
    "# from sklearn.model_selection import cross_val_score\n",
    "\n",
    "# rf_pipeline = Pipeline([('Simple', SimpleImputer(add_indicator=True)), ('RandomForest', RandomForestRegressor())])\n",
    "# score = cross_val_score(rf_pipeline, X, y) \n",
    "# print('Score on 5-fold :', score)"
   ]
  },
  {
   "cell_type": "code",
   "execution_count": 23,
   "metadata": {},
   "outputs": [],
   "source": [
    "from sklearn.pipeline import Pipeline\n",
    "from sklearn.model_selection import ShuffleSplit, cross_val_score\n",
    "\n",
    "def plot_score_regressor(X, y, regressor, regressor_name = 'regressor'):\n",
    "    # Boxplot scores for each imputation strategies\n",
    "    \n",
    "    l_score = []\n",
    "    for imputers in [imputers_wo_indicator, imputers_with_indicator]:\n",
    "        for imputer_name, imputer in imputers.items():\n",
    "            pipeline = Pipeline([(imputer_name, imputer), (regressor_name, regressor)])\n",
    "            score = cross_val_score(pipeline, X, y, n_jobs=-1)\n",
    "            l_score.append(score)\n",
    "            \n",
    "    plt.title(regressor_name)     \n",
    "    labels = ['Simple', 'Iterative', 'Simple+Mask', 'Iterative+Mask', 'MinMax']\n",
    "    bplot = plt.boxplot(l_score[::-1], labels=labels[::-1],\n",
    "                vert=False, patch_artist=True)\n",
    "\n",
    "    # Add colors to boxplots\n",
    "    for patch, color in zip(bplot['boxes'],\n",
    "                            ['C0','C1','C2','C3', 'C4']):\n",
    "        patch.set_facecolor(color)\n"
   ]
  },
  {
   "cell_type": "code",
   "execution_count": 24,
   "metadata": {
    "scrolled": true
   },
   "outputs": [
    {
     "data": {
      "image/png": "[encoded data removed]",
      "text/plain": [
       "<Figure size 432x288 with 1 Axes>"
      ]
     },
     "metadata": {
      "needs_background": "light"
     },
     "output_type": "display_data"
    },
    {
     "data": {
      "image/png": "[encoded data removed]",
      "text/plain": [
       "<Figure size 432x288 with 1 Axes>"
      ]
     },
     "metadata": {
      "needs_background": "light"
     },
     "output_type": "display_data"
    },
    {
     "data": {
      "image/png": "[encoded data removed]",
      "text/plain": [
       "<Figure size 432x288 with 1 Axes>"
      ]
     },
     "metadata": {
      "needs_background": "light"
     },
     "output_type": "display_data"
    },
    {
     "data": {
      "image/png": "[encoded data removed]",
      "text/plain": [
       "<Figure size 432x288 with 1 Axes>"
      ]
     },
     "metadata": {
      "needs_background": "light"
     },
     "output_type": "display_data"
    }
   ],
   "source": [
    "for regressor_name, regressor in regressors.items():\n",
    "    plt.figure()\n",
    "    plot_score_regressor(X, y, regressor, regressor_name)"
   ]
  },
  {
   "cell_type": "markdown",
   "metadata": {},
   "source": [
    "Note that in the HistGradientBosstedTree, MIA (i.e. replacing the `np.nan` by the two extremes values, by duplicating each column containing `np.nan`) will be implemented by default in the next release of sklearn in [HistGradientBosstedTree](https://scikit-learn.org/dev/modules/generated/sklearn.ensemble.HistGradientBoostingClassifier.html)"
   ]
  },
  {
   "cell_type": "markdown",
   "metadata": {},
   "source": [
    "# Summary"
   ]
  },
  {
   "cell_type": "markdown",
   "metadata": {},
   "source": [
    "- To train and test on data with missing values, the **same imputation model should be used**.\n",
    "\n",
    "- *Missing Incorporated in Attribute (MIA)* is a good solution for tree-based models (e.g. lightGBM implemantation, sklearn next release). It handles missing values information.   \n",
    "\n",
    "- Imputation methods *reduce* the number of samples required to reach good prediction\n",
    "\n",
    "- When missingness is related to the prediction target, it is useful to *add indicator of missing entries as features*\n"
   ]
  },
  {
   "cell_type": "markdown",
   "metadata": {},
   "source": [
    "### Further reading\n",
    "\n",
    "\n",
    "- Pandas conrains some functions to deals with `nan`: [Missing data with Pandas](https://pandas.pydata.org/pandas-docs/stable/user_guide/missing_data.html)\n",
    "- [Impuation in sklearn](https://scikit-learn.org/stable/modules/impute.html)\n",
    "    - Here we used both the [SimpleImputer](https://scikit-learn.org/stable/modules/generated/sklearn.impute.SimpleImputer.html) and the [IterativeImputer](https://scikit-learn.org/stable/modules/generated/sklearn.impute.IterativeImputer.html) class."
   ]
  }
 ],
 "metadata": {
  "kernelspec": {
   "display_name": "Python 3",
   "language": "python",
   "name": "python3"
  },
  "language_info": {
   "codemirror_mode": {
    "name": "ipython",
    "version": 3
   },
   "file_extension": ".py",
   "mimetype": "text/x-python",
   "name": "python",
   "nbconvert_exporter": "python",
   "pygments_lexer": "ipython3",
   "version": "3.7.3"
  },
  "toc": {
   "base_numbering": 1,
   "nav_menu": {},
   "number_sections": false,
   "sideBar": true,
   "skip_h1_title": false,
   "title_cell": "Table of Contents",
   "title_sidebar": "Contents",
   "toc_cell": false,
   "toc_position": {},
   "toc_section_display": true,
   "toc_window_display": true
  }
 },
 "nbformat": 4,
 "nbformat_minor": 4
}
